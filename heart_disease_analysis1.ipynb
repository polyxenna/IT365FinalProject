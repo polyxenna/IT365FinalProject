{
 "cells": [
  {
   "cell_type": "code",
   "execution_count": null,
   "id": "6b736183",
   "metadata": {},
   "outputs": [],
   "source": [
    "import pandas as pd\n",
    "import matplotlib.pyplot as plt\n",
    "import seaborn as sns\n",
    "from sklearn.linear_model import LogisticRegression, LinearRegression\n",
    "from sklearn.model_selection import train_test_split\n",
    "from sklearn.metrics import classification_report, confusion_matrix, roc_curve, auc\n",
    "from sklearn.tree import DecisionTreeClassifier, plot_tree\n",
    "import statsmodels.api as sm\n",
    "import numpy as np"
   ]
  },
  {
   "cell_type": "code",
   "execution_count": null,
   "id": "825f595d",
   "metadata": {},
   "outputs": [],
   "source": [
    "# Load the dataset\n",
    "file_path = 'heart.csv'\n",
    "heart_data = pd.read_csv(file_path)\n",
    "heart_data.head()"
   ]
  },
  {
   "cell_type": "code",
   "execution_count": null,
   "id": "418329c2",
   "metadata": {},
   "outputs": [],
   "source": [
    "# Preparing data for logistic regression\n",
    "X = heart_data.drop('target', axis=1)\n",
    "y = heart_data['target']\n",
    "\n",
    "# Train-test split\n",
    "X_train, X_test, y_train, y_test = train_test_split(X, y, test_size=0.2, random_state=42)\n",
    "\n",
    "# Logistic Regression model\n",
    "log_reg = LogisticRegression(max_iter=1000)\n",
    "log_reg.fit(X_train, y_train)\n",
    "\n",
    "# Predictions for test data\n",
    "y_pred = log_reg.predict(X_test)\n",
    "\n",
    "# Preparing data for multiple linear regression\n",
    "features = ['age', 'trestbps', 'chol', 'thalach', 'oldpeak']\n",
    "X_lin = heart_data[features]\n",
    "y_lin = heart_data['target']\n",
    "\n",
    "# Adding a constant to the model (for the intercept)\n",
    "X_lin_const = sm.add_constant(X_lin)\n",
    "\n",
    "# Fitting the model\n",
    "lin_model = sm.OLS(y_lin, X_lin_const).fit()\n",
    "\n",
    "# Predictions\n",
    "predictions = lin_model.predict(X_lin_const)\n",
    "\n",
    "# Calculate the probabilities of each class for ROC\n",
    "y_prob = log_reg.predict_proba(X_test)\n",
    "\n",
    "# Compute ROC curve and ROC area for each class\n",
    "fpr, tpr, _ = roc_curve(y_test, y_prob[:, 1])\n",
    "\n",
    "# Decision Tree Classifier\n",
    "# Training a decision tree classifier\n",
    "dt_classifier = DecisionTreeClassifier(max_depth=3)\n",
    "dt_classifier.fit(X_train, y_train)"
   ]
  },
  {
   "cell_type": "markdown",
   "id": "e87ead05",
   "metadata": {},
   "source": [
    "# Heart Disease Analysis\n",
    "This notebook contains visualizations and analyses for the heart disease dataset."
   ]
  },
  {
   "cell_type": "markdown",
   "id": "69718c35",
   "metadata": {},
   "source": [
    "## Histogram of Age\n",
    "This histogram shows the distribution of ages in the dataset."
   ]
  },
  {
   "cell_type": "code",
   "execution_count": null,
   "id": "e823f262",
   "metadata": {},
   "outputs": [],
   "source": [
    "sns.histplot(heart_data['age'], kde=True, bins=30)\n",
    "plt.show()"
   ]
  },
  {
   "cell_type": "markdown",
   "id": "b4425a5e",
   "metadata": {},
   "source": [
    "## Bar Plot of Chest Pain Types\n",
    "This bar plot visualizes the frequency of different types of chest pain."
   ]
  },
  {
   "cell_type": "code",
   "execution_count": null,
   "id": "4478a1ee",
   "metadata": {},
   "outputs": [],
   "source": [
    "sns.countplot(x='cp', data=heart_data)\n",
    "plt.show()"
   ]
  },
  {
   "cell_type": "markdown",
   "id": "31e8bfc6",
   "metadata": {},
   "source": [
    "## Pie Chart of Sex Distribution\n",
    "This pie chart displays the proportion of male and female participants."
   ]
  },
  {
   "cell_type": "code",
   "execution_count": null,
   "id": "7a04b93a",
   "metadata": {},
   "outputs": [],
   "source": [
    "plt.pie(sex_count, labels=['Male', 'Female'], autopct='%1.1f%%')\n",
    "plt.show()"
   ]
  },
  {
   "cell_type": "markdown",
   "id": "642c6189",
   "metadata": {},
   "source": [
    "## Heatmap of Correlation Matrix\n",
    "This heatmap highlights the correlation between different features."
   ]
  },
  {
   "cell_type": "code",
   "execution_count": null,
   "id": "ecc709db",
   "metadata": {},
   "outputs": [],
   "source": [
    "sns.heatmap(heart_data.corr(), annot=True)\n",
    "plt.show()"
   ]
  },
  {
   "cell_type": "markdown",
   "id": "2602c7a8",
   "metadata": {},
   "source": [
    "## Logistic Regression Model\n",
    "This section includes the confusion matrix for the logistic regression model."
   ]
  },
  {
   "cell_type": "code",
   "execution_count": null,
   "id": "0f900654",
   "metadata": {},
   "outputs": [],
   "source": [
    "sns.heatmap(confusion_matrix(y_test, y_pred), annot=True)\n",
    "plt.show()"
   ]
  },
  {
   "cell_type": "markdown",
   "id": "0b0824f3",
   "metadata": {},
   "source": [
    "## Multiple Linear Regression Plot\n",
    "This plot compares the actual values of the target variable with the predicted values from the multiple linear regression model."
   ]
  },
  {
   "cell_type": "code",
   "execution_count": null,
   "id": "3674d48f",
   "metadata": {},
   "outputs": [],
   "source": [
    "plt.scatter(y_lin, predictions)\n",
    "plt.show()"
   ]
  },
  {
   "cell_type": "markdown",
   "id": "e88186d1",
   "metadata": {},
   "source": [
    "## ROC Curve for Logistic Regression\n",
    "This ROC curve represents the performance of the logistic regression model."
   ]
  },
  {
   "cell_type": "code",
   "execution_count": null,
   "id": "86e694fa",
   "metadata": {},
   "outputs": [],
   "source": [
    "plt.plot(fpr, tpr)\n",
    "plt.show()"
   ]
  },
  {
   "cell_type": "markdown",
   "id": "9644b6a3",
   "metadata": {},
   "source": [
    "## Decision Tree Classifier\n",
    "The decision tree classifier visualizes the decision-making process."
   ]
  },
  {
   "cell_type": "code",
   "execution_count": null,
   "id": "ea45c5be",
   "metadata": {},
   "outputs": [],
   "source": [
    "plot_tree(dt_classifier, filled=True)\n",
    "plt.show()"
   ]
  }
 ],
 "metadata": {},
 "nbformat": 4,
 "nbformat_minor": 5
}
